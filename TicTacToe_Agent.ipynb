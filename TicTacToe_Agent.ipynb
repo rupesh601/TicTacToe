{
 "cells": [
  {
   "cell_type": "markdown",
   "metadata": {
    "colab_type": "text",
    "id": "rznSDgbvGggG"
   },
   "source": [
    "## Tic-Tac-Toe Agent\n",
    "​\n",
    "In this notebook, you will learn to build an RL agent (using Q-learning) that learns to play Numerical Tic-Tac-Toe with odd numbers. The environment is playing randomly with the agent, i.e. its strategy is to put an even number randomly in an empty cell. The following is the layout of the notebook:\n",
    "        - Defining epsilon-greedy strategy\n",
    "        - Tracking state-action pairs for convergence\n",
    "        - Define hyperparameters for the Q-learning algorithm\n",
    "        - Generating episode and applying Q-update equation\n",
    "        - Checking convergence in Q-values"
   ]
  },
  {
   "cell_type": "markdown",
   "metadata": {
    "colab_type": "text",
    "id": "8eDb8PxBGggH"
   },
   "source": [
    "#### Importing libraries\n",
    "Write the code to import Tic-Tac-Toe class from the environment file"
   ]
  },
  {
   "cell_type": "code",
   "execution_count": 57,
   "metadata": {
    "colab": {},
    "colab_type": "code",
    "id": "6SFNYceFGggJ"
   },
   "outputs": [],
   "source": [
    "from TCGame_Env import TicTacToe\n",
    "import collections\n",
    "import numpy as np\n",
    "import random\n",
    "import pickle\n",
    "import time\n",
    "from matplotlib import pyplot as plt"
   ]
  },
  {
   "cell_type": "code",
   "execution_count": 58,
   "metadata": {
    "colab": {},
    "colab_type": "code",
    "id": "wYLQyopEG8nz"
   },
   "outputs": [],
   "source": [
    "# Function to convert state array into a string to store it as keys in the dictionary\n",
    "# states in Q-dictionary will be of form: x-4-5-3-8-x-x-x-x\n",
    "#   x | 4 | 5\n",
    "#   ----------\n",
    "#   3 | 8 | x\n",
    "#   ----------\n",
    "#   x | x | x\n",
    "\n",
    "def Q_state(state):\n",
    "\n",
    "    return ('-'.join(str(e) for e in state)).replace('nan','x')"
   ]
  },
  {
   "cell_type": "code",
   "execution_count": 59,
   "metadata": {
    "colab": {},
    "colab_type": "code",
    "id": "ZebMOoiVHBBr"
   },
   "outputs": [],
   "source": [
    "# Defining a function which will return valid (all possible actions) actions corresponding to a state\n",
    "# Important to avoid errors during deployment.\n",
    "\n",
    "def valid_actions(state):\n",
    "\n",
    "    valid_Actions = []\n",
    "    \n",
    "    valid_Actions = [i for i in env.action_space(state)[0]] ###### -------please call your environment as env\n",
    "    return valid_Actions"
   ]
  },
  {
   "cell_type": "code",
   "execution_count": 60,
   "metadata": {
    "colab": {},
    "colab_type": "code",
    "id": "IRciPUkYHDWf"
   },
   "outputs": [],
   "source": [
    "# Defining a function which will add new Q-values to the Q-dictionary. \n",
    "def add_to_dict(state):\n",
    "    state1 = Q_state(state)\n",
    "    \n",
    "    valid_act = valid_actions(state)\n",
    "    if state1 not in Q_dict.keys():\n",
    "        for action in valid_act:\n",
    "            Q_dict[state1][action]=0"
   ]
  },
  {
   "cell_type": "markdown",
   "metadata": {
    "colab_type": "text",
    "id": "fNNi_EfHGggM"
   },
   "source": [
    "#### Epsilon-greedy strategy - Write your code here\n",
    "\n",
    "(you can build your epsilon-decay function similar to the one given at the end of the notebook)"
   ]
  },
  {
   "cell_type": "code",
   "execution_count": 61,
   "metadata": {
    "colab": {},
    "colab_type": "code",
    "id": "m0lMfqiJGggN"
   },
   "outputs": [],
   "source": [
    "# Defining epsilon-greedy policy. You can choose any function epsilon-decay strategy\n",
    "def epsilon_greedy(state, time):    \n",
    "    epsilon = min_epsilon + (max_epsilon - min_epsilon) * np.exp(-decay_rate*time)\n",
    "    # print(epsilon)\n",
    "    z = np.random.random()\n",
    "        \n",
    "    if z > epsilon:        \n",
    "        state1 = Q_state(state)\n",
    "        action = max(Q_dict[state1],key=Q_dict[state1].get)   #Exploitation: this gets the action corresponding to max q-value of current state\n",
    "    else:        \n",
    "        possible_action = [i for i in env.action_space(state)[0]]        \n",
    "        action = possible_action[np.random.choice(range(len(possible_action)))]    #Exploration: randomly choosing and action\n",
    "    \n",
    "    return action\n"
   ]
  },
  {
   "cell_type": "markdown",
   "metadata": {
    "colab_type": "text",
    "id": "H2kyQHOMGggR"
   },
   "source": [
    "#### Tracking the state-action pairs for checking convergence - write your code here"
   ]
  },
  {
   "cell_type": "code",
   "execution_count": 62,
   "metadata": {
    "colab": {},
    "colab_type": "code",
    "id": "qcxZ29vdGggS"
   },
   "outputs": [],
   "source": [
    "# Initialise Q_dictionary as 'Q_dict' and States_tracked as 'States_track' (for convergence)\n",
    "Q_dict = collections.defaultdict(dict)\n",
    "States_track =collections.defaultdict(dict)"
   ]
  },
  {
   "cell_type": "code",
   "execution_count": 63,
   "metadata": {
    "colab": {},
    "colab_type": "code",
    "id": "vs73iv8fHOxV"
   },
   "outputs": [],
   "source": [
    "# Initialise states to be tracked\n",
    "def initialise_tracking_states():\n",
    "    Sample_Qvalues = [('x-x-x-x-x-x-x-x-x',(6,5)),('x-x-x-x-x-x-x-x-x',(1,9)),\n",
    "                       ('x-x-x-x-x-x-x-x-x',(1,1)),('x-x-x-x-x-x-x-x-x',(6,3))]    #select some 4 Q-values\n",
    "    for q_values in Sample_Qvalues:\n",
    "        state = q_values[0]\n",
    "        action = q_values[1]\n",
    "        States_track[state][action] = []\n",
    "  \n",
    "  \n",
    "  "
   ]
  },
  {
   "cell_type": "code",
   "execution_count": 64,
   "metadata": {
    "colab": {},
    "colab_type": "code",
    "id": "dAbwJDMVHpwl"
   },
   "outputs": [],
   "source": [
    "#Defining a function to save the Q-dictionary as a pickle file\n",
    "\n",
    "def save_obj(obj, name ):\n",
    "    with open(name + '.pkl', 'wb') as f:\n",
    "        pickle.dump(obj, f, pickle.HIGHEST_PROTOCOL)"
   ]
  },
  {
   "cell_type": "code",
   "execution_count": 65,
   "metadata": {
    "colab": {},
    "colab_type": "code",
    "id": "6Pyj7nMVHsBi"
   },
   "outputs": [],
   "source": [
    "def save_tracking_states():\n",
    "    for state in States_track.keys():\n",
    "        for action in States_track[state].keys():\n",
    "            if state in Q_dict and action in Q_dict[state]:\n",
    "                States_track[state][action].append(Q_dict[state][action])"
   ]
  },
  {
   "cell_type": "code",
   "execution_count": 66,
   "metadata": {
    "colab": {},
    "colab_type": "code",
    "id": "B_8xSluUHvew"
   },
   "outputs": [],
   "source": [
    "initialise_tracking_states()"
   ]
  },
  {
   "cell_type": "markdown",
   "metadata": {
    "colab_type": "text",
    "id": "-iPt--E9GggV"
   },
   "source": [
    "#### Define hyperparameters  ---write your code here"
   ]
  },
  {
   "cell_type": "code",
   "execution_count": 67,
   "metadata": {
    "colab": {},
    "colab_type": "code",
    "id": "G0_f5czFGggW"
   },
   "outputs": [],
   "source": [
    "EPISODES = 5000000\n",
    "LR = 0.01                   # learning rate\n",
    "GAMMA = 0.9                # discount factor\n",
    "\n",
    "max_epsilon = 1.0\n",
    "min_epsilon = 0.001\n",
    "decay_rate = 0.001        # epsilon decay rate\n",
    "threshold = 30"
   ]
  },
  {
   "cell_type": "markdown",
   "metadata": {
    "colab_type": "text",
    "id": "Md6twJ7wGggh"
   },
   "source": [
    "### Q-update loop ---write your code here"
   ]
  },
  {
   "cell_type": "code",
   "execution_count": 68,
   "metadata": {
    "colab": {},
    "colab_type": "code",
    "id": "ldCgQuDNGggj"
   },
   "outputs": [
    {
     "name": "stdout",
     "output_type": "stream",
     "text": [
      "0\n",
      "100000\n",
      "200000\n",
      "300000\n",
      "400000\n",
      "500000\n",
      "600000\n",
      "700000\n",
      "800000\n",
      "900000\n",
      "1000000\n",
      "1100000\n",
      "1200000\n",
      "1300000\n",
      "1400000\n",
      "1500000\n",
      "1600000\n",
      "1700000\n",
      "1800000\n",
      "1900000\n",
      "2000000\n",
      "2100000\n",
      "2200000\n",
      "2300000\n",
      "2400000\n",
      "2500000\n",
      "2600000\n",
      "2700000\n",
      "2800000\n",
      "2900000\n",
      "3000000\n",
      "3100000\n",
      "3200000\n",
      "3300000\n",
      "3400000\n",
      "3500000\n",
      "3600000\n",
      "3700000\n",
      "3800000\n",
      "3900000\n",
      "4000000\n",
      "4100000\n",
      "4200000\n",
      "4300000\n",
      "4400000\n",
      "4500000\n",
      "4600000\n",
      "4700000\n",
      "4800000\n",
      "4900000\n"
     ]
    }
   ],
   "source": [
    "start_time = time.time()\n",
    "\n",
    "for episode in range(EPISODES):\n",
    "    ##### Start writing your code from the next line\n",
    "    if episode % 100000 == 0:\n",
    "        print(episode)\n",
    "    env = TicTacToe() # call the environment\n",
    "    curr_state = env.state    \n",
    "    done = False  \n",
    "    add_to_dict(curr_state)  # adding the current state to dictionary\n",
    "\n",
    "    while done != True:  \n",
    "        curr_state1 = Q_state(curr_state)\n",
    "        curr_action = epsilon_greedy(curr_state, episode)   # applying epislon method\n",
    "        next_state, reward, done = env.step(curr_state, curr_action) # getting rewar\n",
    "        next_state_temp = Q_state(next_state)\n",
    "        add_to_dict(next_state)\n",
    "\n",
    "        # Updating rules\n",
    "        if done != True:\n",
    "            max_next = max(Q_dict[next_state_temp],key=Q_dict[next_state_temp].get)  \n",
    "                #this gets the action corresponding to max q-value of next state\n",
    "            Q_dict[curr_state1][curr_action] += LR * ((reward + (GAMMA*(Q_dict[next_state_temp][max_next])))\n",
    "                                                      - Q_dict[curr_state1][curr_action] ) \n",
    "        else:\n",
    "            Q_dict[curr_state1][curr_action] += LR * ((reward - Q_dict[curr_state1][curr_action]))\n",
    "\n",
    "        # navigating to next state\n",
    "        curr_state = next_state\n",
    "        \n",
    "        if ((episode+1)%threshold)==0:\n",
    "            save_tracking_states()\n",
    "    \n",
    "elapsed_time = time.time() - start_time\n",
    "save_obj(Q_dict,'Policy')\n",
    "save_obj(States_track,'States_tracked')   \n"
   ]
  },
  {
   "cell_type": "markdown",
   "metadata": {
    "colab_type": "text",
    "id": "t6eMFbb8Ggg2"
   },
   "source": [
    "#### Check the Q-dictionary"
   ]
  },
  {
   "cell_type": "code",
   "execution_count": 69,
   "metadata": {},
   "outputs": [
    {
     "name": "stdout",
     "output_type": "stream",
     "text": [
      "5.145688389750081 x-x-x-x-x-x-x-x-x (2, 9)\n",
      "6.925292725597658 x-x-9-x-8-x-x-x-x (0, 7)\n",
      "7.310930782689716 x-x-9-x-x-8-x-x-x (0, 1)\n",
      "7.882195796512441 x-6-9-x-x-x-x-x-x (6, 1)\n",
      "9.999999999999911 1-x-9-x-4-x-x-6-x (1, 5)\n"
     ]
    }
   ],
   "source": [
    "m = 0\n",
    "for state in Q_dict:\n",
    "    for pos in Q_dict[state]:\n",
    "        m1 = max(Q_dict[state],key=Q_dict[state].get)\n",
    "        if (Q_dict[state][pos] > m):\n",
    "            print(Q_dict[state][pos],state,pos)\n",
    "            m= Q_dict[state][pos]"
   ]
  },
  {
   "cell_type": "code",
   "execution_count": 70,
   "metadata": {
    "colab": {},
    "colab_type": "code",
    "id": "cFgUqfcQGghB"
   },
   "outputs": [],
   "source": [
    "# try checking for one of the states - that which action your agent thinks is the best  -----This will not be evaluated"
   ]
  },
  {
   "cell_type": "code",
   "execution_count": 71,
   "metadata": {},
   "outputs": [
    {
     "name": "stdout",
     "output_type": "stream",
     "text": [
      "Agent win : 45.31 %\n",
      "Agent loss : 20.95 %\n",
      "Agent tie : 33.74 %\n"
     ]
    }
   ],
   "source": [
    "win = 0\n",
    "loss = 0\n",
    "tie = 0\n",
    "test_count = 10000\n",
    "for i in range(test_count):\n",
    "    env = TicTacToe()    \n",
    "    curr_state = env.state\n",
    "    curr_action = random.choice(list(env.action_space(curr_state)[0]))\n",
    "    curr_state, reward, terminated = env.step(curr_state, curr_action)\n",
    "    time_step = 0    \n",
    "    terminated = False\n",
    "    temp_state = np.reshape(['_' if np.isnan(x) else x for x in curr_state ],(3,3))    \n",
    "    while not terminated:    \n",
    "        curr_state_key = Q_state(curr_state)\n",
    "        if curr_state_key in Q_dict:            \n",
    "            curr_action = max(Q_dict[curr_state_key], key=Q_dict[curr_state_key].get)\n",
    "        else:      \n",
    "            #print('Random',curr_state_key)\n",
    "            curr_action = random.choice(list(env.action_space(curr_state)[0]))        \n",
    "\n",
    "        curr_state, reward, terminated = env.step(curr_state, curr_action)       \n",
    "    if reward == 10:\n",
    "        win += 1\n",
    "    elif reward == -10:\n",
    "        loss += 1\n",
    "    else:\n",
    "        tie += 1\n",
    "print('Agent win :', round(win*100/test_count,2),'%')\n",
    "print('Agent loss :', round(loss*100/test_count,2),'%')\n",
    "print('Agent tie :', round(tie*100/test_count,2),'%')"
   ]
  },
  {
   "cell_type": "code",
   "execution_count": 72,
   "metadata": {},
   "outputs": [
    {
     "name": "stdout",
     "output_type": "stream",
     "text": [
      "[['_' '9' '_']\n",
      " ['_' '_' '_']\n",
      " ['_' '_' '4']]\n",
      "--------------------------------------------------\n",
      "[['_' '9' '_']\n",
      " ['_' '8' '_']\n",
      " ['_' '7' '4']]\n",
      "--------------------------------------------------\n",
      "[['3' '9' '_']\n",
      " ['_' '8' '_']\n",
      " ['_' '7' '4']]\n",
      "--------------------------------------------------\n",
      "Agent won\n"
     ]
    }
   ],
   "source": [
    "env = TicTacToe()    \n",
    "curr_state = env.state\n",
    "curr_action = random.choice(list(env.action_space(curr_state)[0]))\n",
    "curr_state, reward, terminated = env.step(curr_state, curr_action)\n",
    "time_step = 0    \n",
    "terminated = False\n",
    "temp_state = np.reshape(['_' if np.isnan(x) else x for x in curr_state ],(3,3))\n",
    "print(temp_state)\n",
    "print('-'*50)\n",
    "while not terminated:    \n",
    "    curr_state_key = Q_state(curr_state)\n",
    "    if curr_state_key in Q_dict:            \n",
    "        curr_action = max(Q_dict[curr_state_key], key=Q_dict[curr_state_key].get)\n",
    "    else:      \n",
    "        #print('Random',curr_state_key)\n",
    "        curr_action = random.choice(list(env.action_space(curr_state)[0]))        \n",
    "\n",
    "    curr_state, reward, terminated = env.step(curr_state, curr_action)\n",
    "    temp_state = np.reshape(['_' if np.isnan(x) else x for x in curr_state ],(3,3))\n",
    "    print(temp_state)\n",
    "    print('-'*50)\n",
    "if reward == 10:\n",
    "    print('Agent won')\n",
    "elif reward == -10:\n",
    "    print('Envornment won')\n",
    "else:\n",
    "    print('Tie')"
   ]
  },
  {
   "cell_type": "markdown",
   "metadata": {
    "colab_type": "text",
    "id": "KGPZEQDFGghG"
   },
   "source": [
    "#### Check the states tracked for Q-values convergence\n",
    "(non-evaluative)"
   ]
  },
  {
   "cell_type": "code",
   "execution_count": 73,
   "metadata": {
    "colab": {},
    "colab_type": "code",
    "id": "9s1Tvz8HGghH"
   },
   "outputs": [],
   "source": [
    "# Write the code for plotting the graphs for state-action pairs tracked"
   ]
  },
  {
   "cell_type": "code",
   "execution_count": 74,
   "metadata": {},
   "outputs": [
    {
     "data": {
      "text/plain": [
       "1"
      ]
     },
     "execution_count": 74,
     "metadata": {},
     "output_type": "execute_result"
    }
   ],
   "source": [
    "len(States_track)"
   ]
  },
  {
   "cell_type": "code",
   "execution_count": 82,
   "metadata": {
    "colab": {},
    "colab_type": "code",
    "id": "pVQInsg7GghL"
   },
   "outputs": [
    {
     "name": "stdout",
     "output_type": "stream",
     "text": [
      "x-x-x-x-x-x-x-x-x (6, 5)\n"
     ]
    },
    {
     "data": {
      "image/png": "[encoded data removed]",
      "text/plain": [
       "<Figure size 1152x504 with 1 Axes>"
      ]
     },
     "metadata": {
      "needs_background": "light"
     },
     "output_type": "display_data"
    },
    {
     "name": "stdout",
     "output_type": "stream",
     "text": [
      "x-x-x-x-x-x-x-x-x (1, 9)\n"
     ]
    },
    {
     "data": {
      "image/png": "[encoded data removed]",
      "text/plain": [
       "<Figure size 1152x504 with 1 Axes>"
      ]
     },
     "metadata": {
      "needs_background": "light"
     },
     "output_type": "display_data"
    },
    {
     "name": "stdout",
     "output_type": "stream",
     "text": [
      "x-x-x-x-x-x-x-x-x (1, 1)\n"
     ]
    },
    {
     "data": {
      "image/png": "[encoded data removed]",
      "text/plain": [
       "<Figure size 1152x504 with 1 Axes>"
      ]
     },
     "metadata": {
      "needs_background": "light"
     },
     "output_type": "display_data"
    },
    {
     "name": "stdout",
     "output_type": "stream",
     "text": [
      "x-x-x-x-x-x-x-x-x (6, 3)\n"
     ]
    },
    {
     "data": {
      "image/png": "[encoded data removed]",
      "text/plain": [
       "<Figure size 1152x504 with 1 Axes>"
      ]
     },
     "metadata": {
      "needs_background": "light"
     },
     "output_type": "display_data"
    }
   ],
   "source": [
    "for state in States_track:\n",
    "    for pos in States_track[state]:\n",
    "        print(state,pos)\n",
    "        plt.figure(0, figsize=(16,7))\n",
    "\n",
    "        x_axis = np.asarray(range(0, len(States_track[state][pos][:10000])))\n",
    "        plt.subplot(221)\n",
    "        plt.plot(x_axis,np.asarray(States_track[state][pos][:10000]))\n",
    "        plt.show()"
   ]
  },
  {
   "cell_type": "markdown",
   "metadata": {
    "colab_type": "text",
    "id": "b2Opp8_NITkC"
   },
   "source": [
    "### Epsilon - decay check"
   ]
  },
  {
   "cell_type": "code",
   "execution_count": 76,
   "metadata": {
    "colab": {},
    "colab_type": "code",
    "id": "gQ_D_JsuGghR"
   },
   "outputs": [],
   "source": [
    "max_epsilon = 1.0\n",
    "min_epsilon = 0.001\n",
    "time = np.arange(0,5000000)\n",
    "epsilon = []\n",
    "for i in range(0,5000000):\n",
    "    epsilon.append(min_epsilon + (max_epsilon - min_epsilon) * np.exp(-0.000001*i))"
   ]
  },
  {
   "cell_type": "code",
   "execution_count": 77,
   "metadata": {
    "colab": {
     "base_uri": "https://localhost:8080/",
     "height": 347
    },
    "colab_type": "code",
    "id": "J7c2xADQGghV",
    "outputId": "cb60fce3-570b-45fb-bd83-abde3d13b273"
   },
   "outputs": [
    {
     "data": {
      "image/png": "[encoded data removed]",
      "text/plain": [
       "<Figure size 432x288 with 1 Axes>"
      ]
     },
     "metadata": {
      "needs_background": "light"
     },
     "output_type": "display_data"
    }
   ],
   "source": [
    "plt.plot(time, epsilon)\n",
    "plt.show()"
   ]
  },
  {
   "cell_type": "markdown",
   "metadata": {},
   "source": [
    "# Play against computer"
   ]
  },
  {
   "cell_type": "code",
   "execution_count": 13,
   "metadata": {},
   "outputs": [],
   "source": [
    "import copy"
   ]
  },
  {
   "cell_type": "code",
   "execution_count": 3,
   "metadata": {},
   "outputs": [],
   "source": [
    "with open('Policy.pkl','rb') as handle:\n",
    "    Q_dict = pickle.load(handle)"
   ]
  },
  {
   "cell_type": "code",
   "execution_count": 22,
   "metadata": {},
   "outputs": [
    {
     "name": "stdout",
     "output_type": "stream",
     "text": [
      "[['_' '7' '_']\n",
      " ['_' '_' '_']\n",
      " ['_' '_' '_']]\n"
     ]
    }
   ],
   "source": [
    "env = TicTacToe()    \n",
    "curr_state = env.state\n",
    "curr_action = random.choice(list(env.action_space(curr_state)[0]))\n",
    "temp_state = copy.deepcopy(curr_state)\n",
    "temp_state[curr_action[0]] = curr_action[1]\n",
    "temp_state = np.reshape(['_' if np.isnan(x) else x for x in temp_state ],(3,3))\n",
    "print(temp_state)"
   ]
  },
  {
   "cell_type": "code",
   "execution_count": 11,
   "metadata": {},
   "outputs": [
    {
     "data": {
      "text/plain": [
       "0"
      ]
     },
     "execution_count": 11,
     "metadata": {},
     "output_type": "execute_result"
    }
   ],
   "source": [
    "pos = random.choice(env.allowed_positions(env.state))\n",
    "type(pos"
   ]
  },
  {
   "cell_type": "code",
   "execution_count": 56,
   "metadata": {},
   "outputs": [
    {
     "name": "stdout",
     "output_type": "stream",
     "text": [
      "(2, 1)\n",
      "[['_' '_' '1']\n",
      " ['_' '_' '_']\n",
      " ['_' '_' '_']]\n",
      "--------------------------------------------------\n",
      "Please enter position (0,1,3,4,5,6,7,8):0\n",
      "Please enter value (2,4,6,8):4\n",
      "[['4' '_' '1']\n",
      " ['_' '_' '_']\n",
      " ['_' '_' '_']]\n",
      "--------------------------------------------------\n",
      "[['4' '_' '1']\n",
      " ['7' '_' '_']\n",
      " ['_' '_' '_']]\n",
      "--------------------------------------------------\n",
      "Please enter position (1,4,5,6,7,8):7\n",
      "Please enter value (2,6,8):6\n",
      "[['4' '_' '1']\n",
      " ['7' '_' '_']\n",
      " ['_' '6' '_']]\n",
      "--------------------------------------------------\n",
      "[['4' '_' '1']\n",
      " ['7' '_' '5']\n",
      " ['_' '6' '_']]\n",
      "--------------------------------------------------\n",
      "Please enter position (1,4,6,8):8\n",
      "Please enter value (2,8):2\n",
      "[['4' '_' '1']\n",
      " ['7' '_' '5']\n",
      " ['_' '6' '2']]\n",
      "--------------------------------------------------\n",
      "Random 4-x-1-7-x-5-x-6-2\n",
      "[['4' '_' '1']\n",
      " ['7' '_' '5']\n",
      " ['9' '6' '2']]\n",
      "--------------------------------------------------\n",
      "Please enter position (1,4):1\n",
      "Please enter value (8):8\n",
      "[['4' '8' '1']\n",
      " ['7' '_' '5']\n",
      " ['9' '6' '2']]\n",
      "--------------------------------------------------\n",
      "Random 4-8-1-7-x-5-9-6-2\n",
      "[[4 8 1]\n",
      " [7 3 5]\n",
      " [9 6 2]]\n",
      "--------------------------------------------------\n",
      "Please enter position ():1\n",
      "Please enter value ():1\n",
      "[[4 8 1]\n",
      " [7 3 5]\n",
      " [9 6 2]]\n",
      "--------------------------------------------------\n",
      "Computer won\n"
     ]
    }
   ],
   "source": [
    "env = TicTacToe()    \n",
    "curr_state = env.state\n",
    "curr_action = random.choice(list(env.action_space(curr_state)[0]))\n",
    "print(curr_action)\n",
    "temp_state = copy.deepcopy(curr_state)\n",
    "temp_state[curr_action[0]] = curr_action[1]\n",
    "temp_state = np.reshape(['_' if np.isnan(x) else x for x in temp_state ],(3,3))\n",
    "print(temp_state)\n",
    "print('-'*50)\n",
    "pos = int(input('Please enter position ('+ \",\".join(str(x) for x in env.allowed_positions(env.state) if x != curr_action[0])+'):'))\n",
    "val = int(input('Please enter value ('+ \",\".join(str(x) for x in env.allowed_values(env.state)[1])+'):'))\n",
    "\n",
    "curr_state, reward, terminated = env.computer_move(curr_state, curr_action,pos,val)\n",
    "time_step = 0    \n",
    "terminated = False\n",
    "temp_state = np.reshape(['_' if np.isnan(x) else x for x in curr_state ],(3,3))\n",
    "print(temp_state)\n",
    "print('-'*50)\n",
    "\n",
    "while not terminated:    \n",
    "    curr_state_key = Q_state(curr_state)\n",
    "    if curr_state_key in Q_dict:            \n",
    "        curr_action = max(Q_dict[curr_state_key], key=Q_dict[curr_state_key].get)\n",
    "    else:      \n",
    "        print('Random',curr_state_key)\n",
    "        curr_action = random.choice(list(env.action_space(curr_state)[0]))\n",
    "        \n",
    "    temp_state = copy.deepcopy(curr_state)\n",
    "    temp_state[curr_action[0]] = curr_action[1]\n",
    "    temp_state = np.reshape(['_' if np.isnan(x) else x for x in temp_state ],(3,3))\n",
    "    print(temp_state)\n",
    "    print('-'*50)\n",
    "    if len(env.allowed_positions(env.state)) == 0:\n",
    "        break\n",
    "    pos = int(input('Please enter position ('+ \",\".join(str(x) for x in env.allowed_positions(env.state) if x != curr_action[0])+'):'))\n",
    "    val = int(input('Please enter value ('+ \",\".join(str(x) for x in env.allowed_values(env.state)[1])+'):'))\n",
    "\n",
    "    curr_state, reward, terminated = env.computer_move(curr_state, curr_action,pos,val)    \n",
    "    temp_state = np.reshape(['_' if np.isnan(x) else x for x in curr_state ],(3,3))\n",
    "    print(temp_state)\n",
    "    print('-'*50)\n",
    "    \n",
    "\n",
    "if reward == 10:\n",
    "    print('Computer won')\n",
    "elif reward == -10:\n",
    "    print('You won')\n",
    "else:\n",
    "    print('Tie')"
   ]
  },
  {
   "cell_type": "code",
   "execution_count": null,
   "metadata": {},
   "outputs": [],
   "source": []
  }
 ],
 "metadata": {
  "colab": {
   "collapsed_sections": [],
   "name": "TicTacToe_Agent.ipynb",
   "provenance": [],
   "version": "0.3.2"
  },
  "kernelspec": {
   "display_name": "Python 3",
   "language": "python",
   "name": "python3"
  },
  "language_info": {
   "codemirror_mode": {
    "name": "ipython",
    "version": 3
   },
   "file_extension": ".py",
   "mimetype": "text/x-python",
   "name": "python",
   "nbconvert_exporter": "python",
   "pygments_lexer": "ipython3",
   "version": "3.7.7"
  }
 },
 "nbformat": 4,
 "nbformat_minor": 1
}
